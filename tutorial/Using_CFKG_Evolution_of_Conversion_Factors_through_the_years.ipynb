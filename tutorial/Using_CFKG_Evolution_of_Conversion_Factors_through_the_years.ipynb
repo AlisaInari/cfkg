{
  "cells": [
    {
      "attachments": {},
      "cell_type": "markdown",
      "metadata": {},
      "source": [
        "# Using CFKG to analyse the evolution of GHG Emission Conversion Factors through the years"
      ]
    },
    {
      "attachments": {},
      "cell_type": "markdown",
      "metadata": {
        "colab": {
          "base_uri": "https://localhost:8080/"
        },
        "id": "VlwvSO_-N47I",
        "outputId": "9894bd59-5cd4-4014-dcb7-91fd90ac810a"
      },
      "source": [
        "## Required libraries\n",
        "\n",
        "- `rdflib`\n",
        "- `sparqlwrapper`\n",
        "- `matplotlib`"
      ]
    },
    {
      "attachments": {},
      "cell_type": "markdown",
      "metadata": {},
      "source": [
        "## SPARQL endpoint\n",
        "\n",
        "First let's setup the endpoint"
      ]
    },
    {
      "cell_type": "code",
      "execution_count": 1,
      "metadata": {
        "id": "bzVSafF7TLwB"
      },
      "outputs": [],
      "source": [
        "from SPARQLWrapper import SPARQLWrapper, JSON\n",
        "\n",
        "sparql = SPARQLWrapper(\n",
        "    \"https://sparql.cf.linkeddata.es/cf\"\n",
        ")\n",
        "# if the SPARQL endpoint is down, you still have all the sources in our GitHub repository:\n",
        "# https://github.com/TEC-Toolkit/cfkg\n",
        "sparql.setReturnFormat(JSON)"
      ]
    },
    {
      "attachments": {},
      "cell_type": "markdown",
      "metadata": {},
      "source": [
        "## Queries\n",
        "\n",
        "Now we need to choose the conversion factor.\n",
        "This can be through a URI, or by determining emission source and emission target.\n",
        "For example a CF that involves Compressed Natural Gas (CNG) and its transformation to CO2e.\n",
        "We also have to determine the Scope of the emission (e.g., Scope 1).\n",
        "\n",
        "Since there are too many, we add a restriction for the scope and so that the entity produced is measured in Kg."
      ]
    },
    {
      "cell_type": "code",
      "execution_count": 2,
      "metadata": {
        "colab": {
          "base_uri": "https://localhost:8080/"
        },
        "id": "4PkAdLEaTWlo",
        "outputId": "a1134192-af19-4be0-b712-06c7c7f6222a"
      },
      "outputs": [
        {
          "name": "stdout",
          "output_type": "stream",
          "text": [
            "{'cf': {'type': 'uri', 'value': 'https://w3id.org/ecfkg/i/UK/BEIS/2022/CF_17'}, 's': {'type': 'uri', 'value': 'https://w3id.org/ecfkg/i/Gaseous_fuels_CNG'}, 't': {'type': 'uri', 'value': 'http://www.wikidata.org/entity/Q1933140'}}\n",
            "{'cf': {'type': 'uri', 'value': 'https://w3id.org/ecfkg/i/UK/BEIS/2022/CF_21'}, 's': {'type': 'uri', 'value': 'https://w3id.org/ecfkg/i/Gaseous_fuels_CNG'}, 't': {'type': 'uri', 'value': 'http://www.wikidata.org/entity/Q1933140'}}\n",
            "{'cf': {'type': 'uri', 'value': 'https://w3id.org/ecfkg/i/UK/BEIS/2022/CF_25'}, 's': {'type': 'uri', 'value': 'https://w3id.org/ecfkg/i/Gaseous_fuels_CNG'}, 't': {'type': 'uri', 'value': 'http://www.wikidata.org/entity/Q1933140'}}\n",
            "{'cf': {'type': 'uri', 'value': 'https://w3id.org/ecfkg/i/UK/BEIS/2022/CF_29'}, 's': {'type': 'uri', 'value': 'https://w3id.org/ecfkg/i/Gaseous_fuels_CNG'}, 't': {'type': 'uri', 'value': 'http://www.wikidata.org/entity/Q1933140'}}\n",
            "{'cf': {'type': 'uri', 'value': 'https://w3id.org/ecfkg/i/UK/BEIS/2021/CF_17'}, 's': {'type': 'uri', 'value': 'https://w3id.org/ecfkg/i/Gaseous_fuels_CNG'}, 't': {'type': 'uri', 'value': 'http://www.wikidata.org/entity/Q1933140'}}\n",
            "{'cf': {'type': 'uri', 'value': 'https://w3id.org/ecfkg/i/UK/BEIS/2021/CF_21'}, 's': {'type': 'uri', 'value': 'https://w3id.org/ecfkg/i/Gaseous_fuels_CNG'}, 't': {'type': 'uri', 'value': 'http://www.wikidata.org/entity/Q1933140'}}\n",
            "{'cf': {'type': 'uri', 'value': 'https://w3id.org/ecfkg/i/UK/BEIS/2021/CF_25'}, 's': {'type': 'uri', 'value': 'https://w3id.org/ecfkg/i/Gaseous_fuels_CNG'}, 't': {'type': 'uri', 'value': 'http://www.wikidata.org/entity/Q1933140'}}\n",
            "{'cf': {'type': 'uri', 'value': 'https://w3id.org/ecfkg/i/UK/BEIS/2021/CF_29'}, 's': {'type': 'uri', 'value': 'https://w3id.org/ecfkg/i/Gaseous_fuels_CNG'}, 't': {'type': 'uri', 'value': 'http://www.wikidata.org/entity/Q1933140'}}\n",
            "{'cf': {'type': 'uri', 'value': 'https://w3id.org/ecfkg/i/UK/BEIS/2020/CF_1'}, 's': {'type': 'uri', 'value': 'https://w3id.org/ecfkg/i/Gaseous_fuels_CNG'}, 't': {'type': 'uri', 'value': 'http://www.wikidata.org/entity/Q1933140'}}\n",
            "{'cf': {'type': 'uri', 'value': 'https://w3id.org/ecfkg/i/UK/BEIS/2020/CF_13'}, 's': {'type': 'uri', 'value': 'https://w3id.org/ecfkg/i/Gaseous_fuels_CNG'}, 't': {'type': 'uri', 'value': 'http://www.wikidata.org/entity/Q1933140'}}\n",
            "{'cf': {'type': 'uri', 'value': 'https://w3id.org/ecfkg/i/UK/BEIS/2020/CF_5'}, 's': {'type': 'uri', 'value': 'https://w3id.org/ecfkg/i/Gaseous_fuels_CNG'}, 't': {'type': 'uri', 'value': 'http://www.wikidata.org/entity/Q1933140'}}\n",
            "{'cf': {'type': 'uri', 'value': 'https://w3id.org/ecfkg/i/UK/BEIS/2020/CF_9'}, 's': {'type': 'uri', 'value': 'https://w3id.org/ecfkg/i/Gaseous_fuels_CNG'}, 't': {'type': 'uri', 'value': 'http://www.wikidata.org/entity/Q1933140'}}\n",
            "{'cf': {'type': 'uri', 'value': 'https://w3id.org/ecfkg/i/UK/BEIS/2019/CF_1'}, 's': {'type': 'uri', 'value': 'https://w3id.org/ecfkg/i/Gaseous_fuels_CNG'}, 't': {'type': 'uri', 'value': 'http://www.wikidata.org/entity/Q1933140'}}\n",
            "{'cf': {'type': 'uri', 'value': 'https://w3id.org/ecfkg/i/UK/BEIS/2019/CF_13'}, 's': {'type': 'uri', 'value': 'https://w3id.org/ecfkg/i/Gaseous_fuels_CNG'}, 't': {'type': 'uri', 'value': 'http://www.wikidata.org/entity/Q1933140'}}\n",
            "{'cf': {'type': 'uri', 'value': 'https://w3id.org/ecfkg/i/UK/BEIS/2019/CF_5'}, 's': {'type': 'uri', 'value': 'https://w3id.org/ecfkg/i/Gaseous_fuels_CNG'}, 't': {'type': 'uri', 'value': 'http://www.wikidata.org/entity/Q1933140'}}\n",
            "{'cf': {'type': 'uri', 'value': 'https://w3id.org/ecfkg/i/UK/BEIS/2019/CF_9'}, 's': {'type': 'uri', 'value': 'https://w3id.org/ecfkg/i/Gaseous_fuels_CNG'}, 't': {'type': 'uri', 'value': 'http://www.wikidata.org/entity/Q1933140'}}\n",
            "{'cf': {'type': 'uri', 'value': 'https://w3id.org/ecfkg/i/UK/BEIS/2018/CF_1'}, 's': {'type': 'uri', 'value': 'https://w3id.org/ecfkg/i/Gaseous_fuels_CNG'}, 't': {'type': 'uri', 'value': 'http://www.wikidata.org/entity/Q1933140'}}\n",
            "{'cf': {'type': 'uri', 'value': 'https://w3id.org/ecfkg/i/UK/BEIS/2018/CF_13'}, 's': {'type': 'uri', 'value': 'https://w3id.org/ecfkg/i/Gaseous_fuels_CNG'}, 't': {'type': 'uri', 'value': 'http://www.wikidata.org/entity/Q1933140'}}\n",
            "{'cf': {'type': 'uri', 'value': 'https://w3id.org/ecfkg/i/UK/BEIS/2018/CF_5'}, 's': {'type': 'uri', 'value': 'https://w3id.org/ecfkg/i/Gaseous_fuels_CNG'}, 't': {'type': 'uri', 'value': 'http://www.wikidata.org/entity/Q1933140'}}\n",
            "{'cf': {'type': 'uri', 'value': 'https://w3id.org/ecfkg/i/UK/BEIS/2018/CF_9'}, 's': {'type': 'uri', 'value': 'https://w3id.org/ecfkg/i/Gaseous_fuels_CNG'}, 't': {'type': 'uri', 'value': 'http://www.wikidata.org/entity/Q1933140'}}\n",
            "{'cf': {'type': 'uri', 'value': 'https://w3id.org/ecfkg/i/UK/BEIS/2017/CF_1'}, 's': {'type': 'uri', 'value': 'https://w3id.org/ecfkg/i/Gaseous_fuels_CNG'}, 't': {'type': 'uri', 'value': 'http://www.wikidata.org/entity/Q1933140'}}\n",
            "{'cf': {'type': 'uri', 'value': 'https://w3id.org/ecfkg/i/UK/BEIS/2017/CF_13'}, 's': {'type': 'uri', 'value': 'https://w3id.org/ecfkg/i/Gaseous_fuels_CNG'}, 't': {'type': 'uri', 'value': 'http://www.wikidata.org/entity/Q1933140'}}\n",
            "{'cf': {'type': 'uri', 'value': 'https://w3id.org/ecfkg/i/UK/BEIS/2017/CF_5'}, 's': {'type': 'uri', 'value': 'https://w3id.org/ecfkg/i/Gaseous_fuels_CNG'}, 't': {'type': 'uri', 'value': 'http://www.wikidata.org/entity/Q1933140'}}\n",
            "{'cf': {'type': 'uri', 'value': 'https://w3id.org/ecfkg/i/UK/BEIS/2017/CF_9'}, 's': {'type': 'uri', 'value': 'https://w3id.org/ecfkg/i/Gaseous_fuels_CNG'}, 't': {'type': 'uri', 'value': 'http://www.wikidata.org/entity/Q1933140'}}\n",
            "{'cf': {'type': 'uri', 'value': 'https://w3id.org/ecfkg/i/UK/BEIS/2016/CF_1'}, 's': {'type': 'uri', 'value': 'https://w3id.org/ecfkg/i/Gaseous_fuels_CNG'}, 't': {'type': 'uri', 'value': 'http://www.wikidata.org/entity/Q1933140'}}\n",
            "{'cf': {'type': 'uri', 'value': 'https://w3id.org/ecfkg/i/UK/BEIS/2016/CF_13'}, 's': {'type': 'uri', 'value': 'https://w3id.org/ecfkg/i/Gaseous_fuels_CNG'}, 't': {'type': 'uri', 'value': 'http://www.wikidata.org/entity/Q1933140'}}\n",
            "{'cf': {'type': 'uri', 'value': 'https://w3id.org/ecfkg/i/UK/BEIS/2016/CF_5'}, 's': {'type': 'uri', 'value': 'https://w3id.org/ecfkg/i/Gaseous_fuels_CNG'}, 't': {'type': 'uri', 'value': 'http://www.wikidata.org/entity/Q1933140'}}\n",
            "{'cf': {'type': 'uri', 'value': 'https://w3id.org/ecfkg/i/UK/BEIS/2016/CF_9'}, 's': {'type': 'uri', 'value': 'https://w3id.org/ecfkg/i/Gaseous_fuels_CNG'}, 't': {'type': 'uri', 'value': 'http://www.wikidata.org/entity/Q1933140'}}\n"
          ]
        }
      ],
      "source": [
        "sparql.setQuery(\"\"\"\n",
        "    PREFIX rdfs: <http://www.w3.org/2000/01/rdf-schema#>\n",
        "    PREFIX ecfo: <https://w3id.org/ecfo#>\n",
        "    PREFIX qudt: <http://qudt.org/schema/qudt/>\n",
        "    \n",
        "    SELECT ?cf ?s ?t\n",
        "    WHERE {\n",
        "        ?cf ecfo:hasTag ?tag;\n",
        "            ecfo:hasEmissionSource ?s;\n",
        "            ecfo:hasEmissionTarget ?t;\n",
        "            ecfo:hasTargetUnit ?tu;\n",
        "            ecfo:hasScope ecfo:Scope1.\n",
        "        ?tag rdfs:label \"CNG\"@en.\n",
        "        ?t rdfs:label \"carbon dioxide equivalent\"@en.\n",
        "        ?tu qudt:abbreviation \"kg\"@en.\n",
        "        OPTIONAL {\n",
        "            ?cf ecfo:hasAdditionalContext ?context\n",
        "        }\n",
        "    }\n",
        "    \"\"\"\n",
        ")\n",
        "\n",
        "ret = sparql.queryAndConvert()\n",
        "for r in ret[\"results\"][\"bindings\"]:\n",
        "    print(r)"
      ]
    },
    {
      "attachments": {},
      "cell_type": "markdown",
      "metadata": {},
      "source": [
        "We see that we get elements within two main contexts: Gross Calorific Value and Net Calorific Value.\n",
        "\n",
        "Now let's get the data for different years only for those with a context."
      ]
    },
    {
      "cell_type": "code",
      "execution_count": 3,
      "metadata": {
        "colab": {
          "base_uri": "https://localhost:8080/"
        },
        "id": "N9tktmYIOSOL",
        "outputId": "ff3e6698-a44f-4204-8e61-aeaf88c9262f"
      },
      "outputs": [
        {
          "name": "stdout",
          "output_type": "stream",
          "text": [
            "Gross values: [0.18254, 0.18316, 0.18387, 0.18385, 0.18396, 0.18416, 0.184]\n",
            "Gross years: [2022, 2021, 2020, 2019, 2018, 2017, 2016]\n",
            "Net values: [0.20227, 0.20297, 0.20374, 0.20428, 0.20437, 0.20463, 0.20444]\n",
            "Net years: [2022, 2021, 2020, 2019, 2018, 2017, 2016]\n"
          ]
        }
      ],
      "source": [
        "from datetime import datetime\n",
        "\n",
        "sparql.setQuery(\"\"\"\n",
        "    PREFIX rdf:  <http://www.w3.org/1999/02/22-rdf-syntax-ns#>\n",
        "    PREFIX rdfs: <http://www.w3.org/2000/01/rdf-schema#>\n",
        "    PREFIX ecfo: <https://w3id.org/ecfo#>\n",
        "    PREFIX qudt: <http://qudt.org/schema/qudt/>\n",
        "    PREFIX time: <http://www.w3.org/2006/time#>\n",
        "\n",
        "    SELECT ?cf ?value ?start ?end ?context\n",
        "    WHERE {\n",
        "        ?cf ecfo:hasTag ?tag;\n",
        "            ecfo:hasEmissionTarget ?t;\n",
        "            ecfo:hasTargetUnit ?tu;\n",
        "            ecfo:hasAdditionalContext ?context;\n",
        "            rdf:value ?value;\n",
        "            ecfo:hasScope ecfo:Scope1;\n",
        "            ecfo:hasApplicablePeriod ?period.\n",
        "        ?tag rdfs:label \"CNG\"@en.\n",
        "        ?t rdfs:label \"carbon dioxide equivalent\"@en.\n",
        "        ?tu qudt:abbreviation \"kg\"@en.\n",
        "        ?period time:hasBeginning/time:inXSDDate ?start;\n",
        "                time:hasEnd/time:inXSDDate ?end.\n",
        "    }\n",
        "    \"\"\"\n",
        ")\n",
        "## we force the context in this case\n",
        "\n",
        "gross_values, net_values, gross_years, net_years = [],[],[],[]\n",
        "\n",
        "ret = sparql.queryAndConvert()\n",
        "\n",
        "for r in ret[\"results\"][\"bindings\"]:\n",
        "    # print(r)\n",
        "    if \"Gross CV\" in r['context']['value']:\n",
        "        gross_values.append(float(r['value']['value']))\n",
        "        gross_years.append(datetime.strptime(r['start']['value'], '%Y-%m-%dT%H:%M:%S').year)\n",
        "    elif \"Net CV\" in r['context']['value']:\n",
        "        net_values.append(float(r['value']['value']))\n",
        "        net_years.append(datetime.strptime(r['start']['value'], '%Y-%m-%dT%H:%M:%S').year)\n",
        "\n",
        "\n",
        "print(\"Gross values:\", gross_values)\n",
        "print(\"Gross years:\", gross_years)\n",
        "print(\"Net values:\", net_values)\n",
        "print(\"Net years:\", net_years)"
      ]
    },
    {
      "attachments": {},
      "cell_type": "markdown",
      "metadata": {
        "id": "cYG2BnD66iMc"
      },
      "source": [
        "We can see that the result includes the values of the emission factor throughout the years (2016–2022).\n",
        "\n",
        "Now we can plot them as shown below."
      ]
    },
    {
      "attachments": {},
      "cell_type": "markdown",
      "metadata": {},
      "source": [
        "## Chart"
      ]
    },
    {
      "cell_type": "code",
      "execution_count": 4,
      "metadata": {
        "colab": {
          "base_uri": "https://localhost:8080/",
          "height": 472
        },
        "id": "pFrFWNpwPoq5",
        "outputId": "db6066ca-f9d4-43c1-9b56-ab9032350394"
      },
      "outputs": [
        {
          "data": {
            "image/png": "[encoded data removed]",
            "text/plain": [
              "<Figure size 640x480 with 1 Axes>"
            ]
          },
          "metadata": {},
          "output_type": "display_data"
        }
      ],
      "source": [
        "import matplotlib.pyplot as plt\n",
        "\n",
        "# Create a line plot\n",
        "plt.plot(net_years, net_values, marker = 'D', label='Net CV')\n",
        "plt.plot(gross_years, gross_values, marker = 'o', label='Gross CV')\n",
        "\n",
        "# Add labels and title\n",
        "plt.xlabel('Years')\n",
        "plt.ylabel('Values')\n",
        "plt.title('CNG Conversion Factor values (2016-2022)')\n",
        "plt.legend()\n",
        "# plt.ylim(0)\n",
        "\n",
        "# Save the plot\n",
        "plt.savefig(\"chart.svg\", format=\"svg\")\n",
        "\n",
        "# Display the plot\n",
        "plt.show()"
      ]
    }
  ],
  "metadata": {
    "colab": {
      "provenance": []
    },
    "kernelspec": {
      "display_name": "Python 3",
      "name": "python3"
    },
    "language_info": {
      "codemirror_mode": {
        "name": "ipython",
        "version": 3
      },
      "file_extension": ".py",
      "mimetype": "text/x-python",
      "name": "python",
      "nbconvert_exporter": "python",
      "pygments_lexer": "ipython3",
      "version": "3.9.1"
    }
  },
  "nbformat": 4,
  "nbformat_minor": 0
}
